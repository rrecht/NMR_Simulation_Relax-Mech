{
 "cells": [
  {
   "cell_type": "markdown",
   "metadata": {},
   "source": [
    "## Intramolecular Hetero- and Homonuclear Dipole-Dipole T1 T2 Relaxation Mechanism \n"
   ]
  },
  {
   "cell_type": "code",
   "execution_count": 3,
   "metadata": {
    "collapsed": true
   },
   "outputs": [],
   "source": [
    "import numpy as np\n",
    "import matplotlib.pyplot as plt"
   ]
  },
  {
   "cell_type": "code",
   "execution_count": 27,
   "metadata": {
    "collapsed": false
   },
   "outputs": [],
   "source": [
    "B0         = 14.1                  # T --> Tesla (600MHz)\n",
    "#B0         = 11.7                  # T --> Tesla (500MHz)\n",
    "\n",
    "gyro_f_rad = 251.662E6             # rad.s(−1).T(−1)\n",
    "gyro_h_rad = 267.513E6             # rad.s(−1).T(−1)\n",
    "gyro_f     = 40.052E6              # s(−1).T(−1)\n",
    "gyro_h     = 42.576E6              # s(−1).T(−1)\n",
    "\n",
    "freq_f     = (-1)*gyro_f * B0      # s(-1)\n",
    "freq_h     = (-1)*gyro_h * B0      # s(-1)\n",
    "\n",
    "spin_f     = 1./2.\n",
    "spin_h     = 1./2.\n",
    "planck     = 6.62607E-34\n",
    "planck_hb  = planck/(2.*np.pi)\n",
    "\n",
    "dist_fh    = 2.4E-10          \n",
    "dist_ff    = 2.4E-10               # mean values (m)\n",
    "dist_hh    = 2.4E-10\n",
    "\n",
    "muo        = 4.*np.pi*1e-7         # vacuum permeability"
   ]
  },
  {
   "cell_type": "code",
   "execution_count": 10,
   "metadata": {
    "collapsed": false
   },
   "outputs": [],
   "source": [
    "def j_function(degree, frequency):\n",
    "    spect_dc   = [24./15., 4./15., 16./15.]\n",
    "    a      = tau_c / (1. + ((frequency**2)*(tau_c**2)))\n",
    "    b      = spect_dc[degree]*a\n",
    "    return b\n",
    "\n",
    "\n",
    "def Long_IntraMolHetDD(gyro_I, gyro_S, r_IS, spin_S, freq_I, freq_S):\n",
    "    E_IS    = ((muo/(4.*np.pi))**2)*((gyro_I*gyro_S*planck_hb)**2)*(spin_S*(spin_S+1.))\n",
    "    part_a  = E_IS/(r_IS**(6))\n",
    "    part_b1 = (1./12.)*j_function(0, freq_I-freq_S)\n",
    "    part_b2 = (3./2.0)*j_function(1, freq_I)\n",
    "    part_b3 = (3./4.0)*j_function(2, freq_I+freq_S)\n",
    "    part_b  = part_b1 + part_b2 + part_b3\n",
    "    R1_IS   = part_a * part_b\n",
    "    T1_IS   = 1./R1_IS\n",
    "    return R1_IS, T1_IS\n",
    "    \n",
    "def Long_IntraMolHomDD(gyro_I, r_KI, spin_I, freq_I):\n",
    "    E_II    = ((muo/(4.*np.pi))**2)*((gyro_I*gyro_I*planck_hb)**2)*(spin_I*(spin_I+1.))\n",
    "    part_a  = E_II/(r_KI**(6))\n",
    "    part_b1 = j_function(1, freq_I)\n",
    "    part_b2 = j_function(2, freq_I+freq_I)\n",
    "    part_b  = part_b1 + part_b2 \n",
    "    R1_II   = part_a * (3./2.) * part_b\n",
    "    T1_II   = 1./R1_II\n",
    "    return R1_II, T1_II\n",
    "\n",
    "\n",
    "def Trans_IntraMolHetDD(gyro_I, gyro_S, r_IS, spin_S, freq_I, freq_S):\n",
    "    E_IS    = ((muo/(4.*np.pi))**2)*((gyro_I*gyro_S*planck_hb)**2)*(spin_S*(spin_S+1.))\n",
    "    part_a  = E_IS/(r_IS**(6))\n",
    "    part_b1 = (1./6.)*  j_function(0, 0)\n",
    "    part_b2 = (1./24.0)*j_function(0, freq_I-freq_S)\n",
    "    part_b3 = (3./4.0)* j_function(1, freq_I)\n",
    "    part_b4 = (3./2.0)* j_function(1, freq_S)\n",
    "    part_b5 = (3./8.0)* j_function(2, freq_I+freq_S)\n",
    "    part_b  = part_b1 + part_b2 + part_b3 + part_b4 + part_b5\n",
    "    R2_IS   = part_a * part_b\n",
    "    T2_IS   = 1./R2_IS\n",
    "    return R2_IS, T2_IS\n",
    "    \n",
    "def Trans_IntraMolHomDD(gyro_I, r_KI, spin_I, freq_I):\n",
    "    E_II    = ((muo/(4.*np.pi))**2)*((gyro_I*gyro_I*planck_hb)**2)*(spin_I*(spin_I+1.))\n",
    "    part_a  = E_II/(r_KI**(6))\n",
    "    part_b1 = (3./8.0)*  j_function(0, 0)\n",
    "    part_b2 = (15./4.0)* j_function(1, freq_I)\n",
    "    part_b3 = (3./8.0)*  j_function(2, freq_I+freq_I)\n",
    "    part_b  = part_b1 + part_b2 + part_b3\n",
    "    R2_II   = part_a * part_b\n",
    "    T2_II   = 1./R2_II\n",
    "    return R2_II, T2_II\n",
    "\n"
   ]
  },
  {
   "cell_type": "code",
   "execution_count": null,
   "metadata": {
    "collapsed": false,
    "scrolled": false
   },
   "outputs": [],
   "source": [
    "# Data plotted in function of tau_c, ranging from 10^(-11) to 10^(-7) seconds.\n",
    "n=1000\n",
    "tau_c=np.logspace(-11,-7,n)\n",
    "\n",
    "# Longitudinal relaxation\n",
    "R1_FH, T1_FH = Long_IntraMolHetDD(gyro_f, gyro_h, dist_fh, 0.5, freq_f, freq_h)\n",
    "R1_HF, T1_HF = Long_IntraMolHetDD(gyro_h, gyro_f, dist_fh, 0.5, freq_h, freq_f)\n",
    "\n",
    "R1_FF, T1_FF = Long_IntraMolHomDD(gyro_f, dist_ff, 0.5, freq_f)\n",
    "R1_HH, T1_HH = Long_IntraMolHomDD(gyro_h, dist_hh, 0.5, freq_h)\n",
    "\n",
    "# Transversal relaxation\n",
    "R2_FH, T2_FH = Trans_IntraMolHetDD(gyro_f, gyro_h, dist_fh, 0.5, freq_f, freq_h)\n",
    "R2_HF, T2_HF = Trans_IntraMolHetDD(gyro_h, gyro_f, dist_fh, 0.5, freq_h, freq_f)\n",
    "\n",
    "R2_FF, T2_FF = Trans_IntraMolHomDD(gyro_f, dist_ff, 0.5, freq_f)\n",
    "R2_HH, T2_HH = Trans_IntraMolHomDD(gyro_h, dist_hh, 0.5, freq_h)\n",
    "\n",
    "\n",
    "\n",
    "\n",
    "fig = plt.figure()\n",
    "ax = fig.add_subplot(1,1,1)\n",
    "\n",
    "ax.plot(tau_c, T1_FH, label='T1_FH')\n",
    "ax.plot(tau_c, T1_HF, label='T1_HF')\n",
    "#3#ax.plot(tau_c, T1_FF, label='T1_FF')\n",
    "#3#ax.plot(tau_c, T1_HH, label='T1_HH')\n",
    "#2#ax.plot(tau_c, T2_FH, label='T2_FH')\n",
    "#2#ax.plot(tau_c, T2_HF, label='T2_HF')\n",
    "#4#ax.plot(tau_c, T2_FF, label='T2_FF')\n",
    "#4#ax.plot(tau_c, T2_HH, label='T2_HH')\n",
    "\n",
    "ax.legend()\n",
    "ax.set_xscale('log')\n",
    "plt.show()"
   ]
  },
  {
   "cell_type": "markdown",
   "metadata": {
    "collapsed": false
   },
   "source": [
    "# CSA Relaxation Mechanism"
   ]
  },
  {
   "cell_type": "code",
   "execution_count": 1,
   "metadata": {
    "collapsed": false
   },
   "outputs": [],
   "source": [
    "\n",
    "def Long_CSA(gyro_I, tauc_I, freq_I, sigma_par, sigma_per):\n",
    "    E_CSA    = (gyro_I**2)*(B_zero**2)*((sigma_per-sigma_par)**2)\n",
    "    part_a   = tauc_I / (1.+((freq_I**2)*(tauc_I**2)))\n",
    "    R1_CSA   = (2./15.) * E_CSA * part_a \n",
    "    T1_CSA   = 1./R1_CSA\n",
    "    return R1_CSA, T1_CSA\n",
    "\n",
    "def Trans_CSA(gyro_I, tauc_I, freq_I, sigma_par, sigma_per):\n",
    "    E_CSA    = (gyro_I**2)*(B_zero**2)*((sigma_per-sigma_par)**2)\n",
    "    part_a   = (8.*tauc_I) + ((6.*tauc_I) / (1.+((freq_I*tauc_I)**2)))\n",
    "    R2_CSA   = (1./90.) * E_CSA * part_a \n",
    "    T2_CSA   = 1./R2_CSA\n",
    "    return R2_CSA, T2_CSA"
   ]
  },
  {
   "cell_type": "code",
   "execution_count": 40,
   "metadata": {
    "collapsed": false
   },
   "outputs": [],
   "source": [
    "# Data plotted in function of tau_c, ranging from 10^(-11) to 10^(-7) seconds.\n",
    "n=1000\n",
    "B_zero=np.linspace(1,17,n)\n",
    "\n",
    "gyro_f_csa     = 40.052\n",
    "gyro_h_csa     = 42.576\n",
    "freq_f_csa     = (gyro_f_csa * B_zero)\n",
    "freq_h_csa     = (gyro_h_csa * B_zero)\n",
    "freq_f         = (gyro_f * B_zero)\n",
    "freq_h         = (gyro_h * B_zero)\n",
    "\n",
    "tau_c = 5E-9\n",
    "\n",
    "\n",
    "R2_CSA_F, T2_CSA_F = Trans_CSA(gyro_f_csa, tau_c, freq_f_csa, 200, 210)\n",
    "R1_CSA_F, T2_CSA_F = Long_CSA(gyro_f_csa, tau_c, freq_f_csa, 200, 250)\n",
    "\n",
    "R2_DD_FH, T2_DD_FH = Trans_IntraMolHetDD(gyro_f, gyro_h, dist_fh, 0.5, freq_f, freq_h)\n",
    "\n",
    "R2_CSA_H, T2_CSA_H = Trans_CSA(gyro_h, 5E-9, freq_h_csa, 200, 201)\n",
    "R1_CSA_H, T2_CSA_H = Long_CSA(gyro_h, 5E-9, freq_h_csa, 200, 201)\n",
    "\n",
    "\n",
    " \n",
    "\n",
    "fig = plt.figure()\n",
    "ax = fig.add_subplot(1,1,1)\n",
    "\n",
    "ax.plot(freq_f_csa, R2_CSA_F, label='R2_CSA_F')\n",
    "ax.plot(freq_f_csa, R2_FH, label='R2_DD_F')\n",
    "ax.plot(freq_f_csa, R2_CSA_F+R2_FH, label='SUM')\n",
    "\n",
    "ax.legend()\n",
    "plt.show()"
   ]
  },
  {
   "cell_type": "code",
   "execution_count": null,
   "metadata": {
    "collapsed": true
   },
   "outputs": [],
   "source": []
  },
  {
   "cell_type": "code",
   "execution_count": null,
   "metadata": {
    "collapsed": true
   },
   "outputs": [],
   "source": []
  },
  {
   "cell_type": "code",
   "execution_count": null,
   "metadata": {
    "collapsed": true
   },
   "outputs": [],
   "source": []
  },
  {
   "cell_type": "code",
   "execution_count": null,
   "metadata": {
    "collapsed": true
   },
   "outputs": [],
   "source": []
  }
 ],
 "metadata": {
  "kernelspec": {
   "display_name": "Python 2",
   "language": "python",
   "name": "python2"
  },
  "language_info": {
   "codemirror_mode": {
    "name": "ipython",
    "version": 2
   },
   "file_extension": ".py",
   "mimetype": "text/x-python",
   "name": "python",
   "nbconvert_exporter": "python",
   "pygments_lexer": "ipython2",
   "version": "2.7.9"
  }
 },
 "nbformat": 4,
 "nbformat_minor": 0
}
